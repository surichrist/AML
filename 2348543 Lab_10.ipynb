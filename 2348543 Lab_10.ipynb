{
  "nbformat": 4,
  "nbformat_minor": 0,
  "metadata": {
    "colab": {
      "provenance": []
    },
    "kernelspec": {
      "name": "python3",
      "display_name": "Python 3"
    },
    "language_info": {
      "name": "python"
    }
  },
  "cells": [
    {
      "cell_type": "markdown",
      "source": [
        "\n",
        "***Q Learning***\n",
        "Q[s, a] = (1 - α) * Q[s, a] + α * (R + γ * max(Q[s', :]))\n",
        "\n",
        "Components:\n",
        "\n",
        "Q[s, a]: The Q-value for taking action a in state s.\n",
        "\n",
        "[α: The learning rate, determining how much the new information is incorporated into the existing Q-values.\n",
        "]\n",
        "R: The immediate reward obtained after taking action a in state s.\n",
        "\n",
        "γ: The discount factor, determining the importance of future rewards.\n",
        "\n",
        "max(Q[s', :]): The maximum Q-value for any action in the next state s'."
      ],
      "metadata": {
        "id": "DDNP_cYBPEZ0"
      }
    },
    {
      "cell_type": "markdown",
      "source": [],
      "metadata": {
        "id": "-DZ84VQ2M1iD"
      }
    },
    {
      "cell_type": "code",
      "source": [
        "import numpy as np\n",
        "import matplotlib.pyplot as plt\n",
        "import matplotlib.colors as mcolors\n",
        "\n",
        "NUM_ROOMS = 6\n",
        "GOAL_STATE = 5\n",
        "NUM_EPISODES = 1000\n",
        "LEARNING_RATE = 0.8\n",
        "DISCOUNT_FACTOR = 0.95\n",
        "\n",
        "# Define possible paths in the environment\n",
        "paths = {\n",
        "    0: [4],\n",
        "    1: [3, 5],\n",
        "    2: [3],\n",
        "    3: [1, 2, 4],\n",
        "    4: [0, 3, 5],\n",
        "    5: [1, 4, 5]\n",
        "}\n",
        "\n",
        "# Function to initialize the Q-matrix with -1\n",
        "def initialize_q_matrix():\n",
        "    return np.full((NUM_ROOMS, NUM_ROOMS), -1, dtype=float)\n",
        "\n",
        "# Function to update the Q-matrix based on Q-learning algorithm\n",
        "def update_q_matrix(q_matrix, state, action, reward, next_state):\n",
        "    max_q_next = np.max(q_matrix[next_state, :])\n",
        "    q_matrix[state, action] = (1 - LEARNING_RATE) * q_matrix[state, action] + \\\n",
        "                              LEARNING_RATE * (reward + DISCOUNT_FACTOR * max_q_next)\n",
        "\n",
        "# Q-learning algorithm\n",
        "def q_learning():\n",
        "    q_matrix = initialize_q_matrix()\n",
        "\n",
        "    for episode in range(NUM_EPISODES):\n",
        "        for state in range(NUM_ROOMS - 1):\n",
        "            for action in paths[state]:\n",
        "                next_state = action if action != GOAL_STATE else GOAL_STATE\n",
        "                reward = 100 if next_state == GOAL_STATE else 0\n",
        "\n",
        "                # Update Q-matrix for each state-action pair\n",
        "                update_q_matrix(q_matrix, state, action, reward, next_state)\n",
        "\n",
        "    return q_matrix\n",
        "\n",
        "# Function to print a matrix with labels and values\n",
        "def print_matrix(matrix, cmap, vmin=None, vmax=None):\n",
        "    labels = ['0', '1', '2', '3', '4', '5']\n",
        "    fig, ax = plt.subplots()\n",
        "    if vmin is not None and vmax is not None:\n",
        "        norm = mcolors.Normalize(vmin=vmin, vmax=vmax)\n",
        "    else:\n",
        "        norm = None\n",
        "    im = ax.imshow(matrix, cmap=cmap, norm=norm)\n",
        "\n",
        "    # Displaying labels\n",
        "    ax.set_xticks(np.arange(len(labels)))\n",
        "    ax.set_yticks(np.arange(len(labels)))\n",
        "    ax.set_xticklabels(labels)\n",
        "    ax.set_yticklabels(labels)\n",
        "\n",
        "    # Displaying values\n",
        "    for i in range(len(labels)):\n",
        "        for j in range(len(labels)):\n",
        "            text = ax.text(j, i, f'{matrix[i, j]:.2f}', ha='center', va='center', color='w')\n",
        "    plt.show()\n",
        "\n",
        "\n"
      ],
      "metadata": {
        "id": "sYrmRtFpIBCW"
      },
      "execution_count": 7,
      "outputs": []
    },
    {
      "cell_type": "markdown",
      "source": [
        "the Q-learning algorithm learns a policy for moving through different rooms to\n",
        "reach a goal state. The Q-matrix is updated based on rewards obtained during episodes, and the final Q-matrix is used to visualize the learned values and find the best path."
      ],
      "metadata": {
        "id": "Tj8vAgYFR96c"
      }
    },
    {
      "cell_type": "code",
      "source": [
        "# Function to print the best path found using the Q-matrix\n",
        "def print_best_path(q_matrix):\n",
        "    current_state = 0\n",
        "    path = [current_state]\n",
        "    while current_state != GOAL_STATE:\n",
        "        action = np.argmax(q_matrix[current_state, :])\n",
        "        path.append(action)\n",
        "        current_state = action\n",
        "    print(\"Best Path:\", path)\n",
        "\n",
        "if __name__ == \"__main__\":\n",
        "    # Run the Q-learning algorithm\n",
        "    final_q_matrix = q_learning()\n",
        "\n",
        "    # Print the initial matrix with goal values\n",
        "    print(\"Initial Matrix:\")\n",
        "    initial_matrix = np.full((NUM_ROOMS, NUM_ROOMS), -1, dtype=int)\n",
        "    for i, row in enumerate(initial_matrix):\n",
        "        for j in paths[i]:\n",
        "            if j == GOAL_STATE:\n",
        "                initial_matrix[i, j] = 100\n",
        "            else:\n",
        "                initial_matrix[i, j] = 0\n",
        "    print_matrix(initial_matrix, cmap='rainbow', vmin=-1, vmax=100)\n",
        "    print(\"\\n\")\n",
        "\n",
        "    # Print the final Q-matrix after convergence\n",
        "    print(\"Final Convergence Value Matrix:\")\n",
        "    print_matrix(final_q_matrix, cmap='magma', vmin=-1, vmax=np.max(final_q_matrix))\n",
        "    print(\"\\n\")\n",
        "\n",
        "    # Print the best path found using the Q-matrix\n",
        "    print_best_path(final_q_matrix)"
      ],
      "metadata": {
        "colab": {
          "base_uri": "https://localhost:8080/",
          "height": 964
        },
        "id": "Jmz_ecJcRvbx",
        "outputId": "b6d055d3-b026-4c0c-89b3-c766da7e67b4"
      },
      "execution_count": 8,
      "outputs": [
        {
          "output_type": "stream",
          "name": "stdout",
          "text": [
            "Initial Matrix:\n"
          ]
        },
        {
          "output_type": "display_data",
          "data": {
            "text/plain": [
              "<Figure size 640x480 with 1 Axes>"
            ],
            "image/png": "[encoded data removed]"
          },
          "metadata": {}
        },
        {
          "output_type": "stream",
          "name": "stdout",
          "text": [
            "\n",
            "\n",
            "Final Convergence Value Matrix:\n"
          ]
        },
        {
          "output_type": "display_data",
          "data": {
            "text/plain": [
              "<Figure size 640x480 with 1 Axes>"
            ],
            "image/png": "[encoded data removed]"
          },
          "metadata": {}
        },
        {
          "output_type": "stream",
          "name": "stdout",
          "text": [
            "\n",
            "\n",
            "Best Path: [0, 4, 5]\n"
          ]
        }
      ]
    },
    {
      "cell_type": "markdown",
      "source": [
        "1. The Q-learning algorithm successfully determines the optimal path after 1000 episodes, highlighting the effectiveness of reinforcement learning in autonomously acquiring and refining strategies.\n",
        "\n",
        "2. The iterative learning process exemplifies the adaptability and efficiency of Q-learning, showcasing its capability to solve complex decision-making problems within diverse environments.\n",
        "\n",
        "3. The best path identified through the learned Q-matrix is 0 -> 4 -> 5, emphasizing the algorithm's ability to navigate through different states to reach the goal state autonomously."
      ],
      "metadata": {
        "id": "HVJupt2Mjo7H"
      }
    },
    {
      "cell_type": "code",
      "source": [],
      "metadata": {
        "id": "B9xaz0RDSkZU"
      },
      "execution_count": null,
      "outputs": []
    }
  ]
}