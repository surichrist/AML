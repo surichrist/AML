{
 "cells": [
  {
   "cell_type": "code",
   "execution_count": 18,
   "id": "5363a171",
   "metadata": {},
   "outputs": [],
   "source": [
    "from vizdoom import *"
   ]
  },
  {
   "cell_type": "code",
   "execution_count": 19,
   "id": "27881e2f",
   "metadata": {},
   "outputs": [],
   "source": [
    "import random\n",
    "import time\n",
    "import numpy as np\n",
    "import matplotlib.pyplot as plt\n",
    "from gymnasium import Env"
   ]
  },
  {
   "cell_type": "code",
   "execution_count": 17,
   "id": "c27a8f90",
   "metadata": {},
   "outputs": [],
   "source": [
    "game = DoomGame()\n",
    "game.load_config('/Users/raghavsuri/Desktop/RLDOOM/Github/ViZDoom-master/scenarios/basic.cfg')\n",
    "game.init()"
   ]
  },
  {
   "cell_type": "code",
   "execution_count": null,
   "id": "20f45f7e",
   "metadata": {},
   "outputs": [],
   "source": []
  },
  {
   "cell_type": "code",
   "execution_count": 4,
   "id": "12c5ca38",
   "metadata": {},
   "outputs": [],
   "source": [
    "#Set of possible actions in environment\n",
    "actions = np.identity(3, dtype=np.uint8)"
   ]
  },
  {
   "cell_type": "code",
   "execution_count": 5,
   "id": "c991fcb4",
   "metadata": {},
   "outputs": [
    {
     "data": {
      "text/plain": [
       "array([[1, 0, 0],\n",
       "       [0, 1, 0],\n",
       "       [0, 0, 1]], dtype=uint8)"
      ]
     },
     "execution_count": 5,
     "metadata": {},
     "output_type": "execute_result"
    }
   ],
   "source": [
    "actions"
   ]
  },
  {
   "cell_type": "code",
   "execution_count": null,
   "id": "28faa23c",
   "metadata": {},
   "outputs": [],
   "source": []
  },
  {
   "cell_type": "code",
   "execution_count": 6,
   "id": "8e49fe42",
   "metadata": {},
   "outputs": [
    {
     "data": {
      "text/plain": [
       "array([1, 0, 0], dtype=uint8)"
      ]
     },
     "execution_count": 6,
     "metadata": {},
     "output_type": "execute_result"
    }
   ],
   "source": [
    "actions[0]"
   ]
  },
  {
   "cell_type": "code",
   "execution_count": 7,
   "id": "d4b3d964",
   "metadata": {},
   "outputs": [
    {
     "data": {
      "text/plain": [
       "array([1, 0, 0], dtype=uint8)"
      ]
     },
     "execution_count": 7,
     "metadata": {},
     "output_type": "execute_result"
    }
   ],
   "source": [
    "random.choice(actions)"
   ]
  },
  {
   "cell_type": "code",
   "execution_count": 8,
   "id": "915e5842",
   "metadata": {},
   "outputs": [],
   "source": [
    "game.new_episode()"
   ]
  },
  {
   "cell_type": "code",
   "execution_count": null,
   "id": "c0db8503",
   "metadata": {},
   "outputs": [],
   "source": []
  },
  {
   "cell_type": "code",
   "execution_count": 9,
   "id": "c62676b0",
   "metadata": {},
   "outputs": [
    {
     "data": {
      "text/plain": [
       "False"
      ]
     },
     "execution_count": 9,
     "metadata": {},
     "output_type": "execute_result"
    }
   ],
   "source": [
    "game.is_episode_finished()"
   ]
  },
  {
   "cell_type": "code",
   "execution_count": 10,
   "id": "899590ee",
   "metadata": {},
   "outputs": [],
   "source": [
    "for i in range(20):\n",
    "    game.make_action(random.choice(actions))"
   ]
  },
  {
   "cell_type": "code",
   "execution_count": 11,
   "id": "0992934b",
   "metadata": {},
   "outputs": [],
   "source": [
    "state = game.get_state()"
   ]
  },
  {
   "cell_type": "code",
   "execution_count": 12,
   "id": "8f26f28c",
   "metadata": {},
   "outputs": [
    {
     "data": {
      "text/plain": [
       "array([49.])"
      ]
     },
     "execution_count": 12,
     "metadata": {},
     "output_type": "execute_result"
    }
   ],
   "source": [
    "state.game_variables"
   ]
  },
  {
   "cell_type": "code",
   "execution_count": 13,
   "id": "f188c34e",
   "metadata": {},
   "outputs": [],
   "source": [
    "game.close()"
   ]
  },
  {
   "cell_type": "code",
   "execution_count": null,
   "id": "b0d3ff06",
   "metadata": {},
   "outputs": [],
   "source": []
  },
  {
   "cell_type": "code",
   "execution_count": 14,
   "id": "5a5a4b17",
   "metadata": {},
   "outputs": [
    {
     "ename": "ViZDoomIsNotRunningException",
     "evalue": "Controlled ViZDoom instance is not running or not ready.",
     "output_type": "error",
     "traceback": [
      "\u001b[0;31m---------------------------------------------------------------------------\u001b[0m",
      "\u001b[0;31mViZDoomIsNotRunningException\u001b[0m              Traceback (most recent call last)",
      "Cell \u001b[0;32mIn[14], line 3\u001b[0m\n\u001b[1;32m      1\u001b[0m episodes \u001b[38;5;241m=\u001b[39m \u001b[38;5;241m10\u001b[39m\n\u001b[1;32m      2\u001b[0m \u001b[38;5;28;01mfor\u001b[39;00m i \u001b[38;5;129;01min\u001b[39;00m \u001b[38;5;28mrange\u001b[39m(episodes):\n\u001b[0;32m----> 3\u001b[0m     \u001b[43mgame\u001b[49m\u001b[38;5;241;43m.\u001b[39;49m\u001b[43mnew_episode\u001b[49m\u001b[43m(\u001b[49m\u001b[43m)\u001b[49m\n\u001b[1;32m      4\u001b[0m     \u001b[38;5;28;01mwhile\u001b[39;00m \u001b[38;5;129;01mnot\u001b[39;00m game\u001b[38;5;241m.\u001b[39mis_episode_finished():\n\u001b[1;32m      5\u001b[0m         state \u001b[38;5;241m=\u001b[39m game\u001b[38;5;241m.\u001b[39mget_state()\n",
      "\u001b[0;31mViZDoomIsNotRunningException\u001b[0m: Controlled ViZDoom instance is not running or not ready."
     ]
    }
   ],
   "source": [
    "episodes = 10\n",
    "for i in range(episodes):\n",
    "    game.new_episode()\n",
    "    while not game.is_episode_finished():\n",
    "        state = game.get_state()\n",
    "        img = state.screen_buffer\n",
    "        info = state.game_variables\n",
    "        reward = game.make_action(random.choice(actions),4)\n",
    "        print('reward: ', reward)\n",
    "        time.sleep(0.02)\n",
    "    print(\"Result: \", game.get_total_reward())\n",
    "    time.sleep(2)"
   ]
  },
  {
   "cell_type": "code",
   "execution_count": null,
   "id": "e4644cb7",
   "metadata": {},
   "outputs": [],
   "source": [
    "game.close()"
   ]
  },
  {
   "cell_type": "code",
   "execution_count": null,
   "id": "58377f20",
   "metadata": {},
   "outputs": [],
   "source": []
  },
  {
   "cell_type": "code",
   "execution_count": null,
   "id": "6dc11978",
   "metadata": {},
   "outputs": [],
   "source": [
    "game.get_state().screen_buffer.shape"
   ]
  },
  {
   "cell_type": "code",
   "execution_count": null,
   "id": "fc6b7a0f",
   "metadata": {},
   "outputs": [],
   "source": [
    "game.close()"
   ]
  },
  {
   "cell_type": "code",
   "execution_count": null,
   "id": "993ff055",
   "metadata": {},
   "outputs": [],
   "source": []
  },
  {
   "cell_type": "code",
   "execution_count": 20,
   "id": "3c5d8e3b",
   "metadata": {},
   "outputs": [],
   "source": [
    "from gymnasium import Env\n",
    "from gymnasium.spaces import Discrete, Box\n",
    "import cv2"
   ]
  },
  {
   "cell_type": "code",
   "execution_count": null,
   "id": "06a8a650",
   "metadata": {},
   "outputs": [],
   "source": []
  },
  {
   "cell_type": "code",
   "execution_count": 21,
   "id": "03ed8877",
   "metadata": {},
   "outputs": [],
   "source": [
    "class vizDoomGym(Env):\n",
    "    \n",
    "    def __init__(self, render=False): ##Function called on starting env\n",
    "        \n",
    "        ##inherit from env class\n",
    "        super().__init__()\n",
    "        \n",
    "        #Game setup\n",
    "        self.game = DoomGame()\n",
    "        self.game.load_config('/Users/raghavsuri/Desktop/RLDOOM/Github/ViZDoom-master/scenarios/basic.cfg')\n",
    "\n",
    "        \n",
    "        if render ==False:\n",
    "            self.game.set_window_visible(False)\n",
    "        else:\n",
    "            self.game.set_window_visible(True)\n",
    "\n",
    "            \n",
    "            \n",
    "        self.game.init()\n",
    "        \n",
    "        \n",
    "        ##Creating action and observatio\n",
    "        self.observation_space = Box(low=0, high=255, shape=(100,160,1), dtype=np.uint8)\n",
    "        self.action_space = Discrete(3)\n",
    "        \n",
    "        \n",
    "        \n",
    "        \n",
    "        pass\n",
    "    \n",
    "    \n",
    "    def step(self, action): ## Taking steps in env\n",
    "        actions = np.identity(3, dtype=np.uint8)\n",
    "        reward = self.game.make_action(actions[action], 4)\n",
    "        \n",
    "        \n",
    "        if self.game.get_state():\n",
    "            state = self.game.get_state().screen_buffer\n",
    "            state = self.grayscale(state)\n",
    "            ammo  = self.game.get_state().game_variables[0]\n",
    "            info = ammo\n",
    "            #info = {'info': info}\n",
    "            \n",
    "        else:\n",
    "            state = np.zeros(self.observation_space.shape)\n",
    "            info = None\n",
    "            \n",
    "\n",
    "        done = self.game.is_episode_finished()\n",
    "        if not done:\n",
    "            \n",
    "            truncated = self.game.is_episode_finished()\n",
    "        else: \n",
    "            truncated = False\n",
    "            \n",
    "        info = {'info': info}            \n",
    "        return state, reward, done, truncated, info\n",
    "        pass\n",
    "    \n",
    "    \n",
    "    \n",
    "    def render(): ## defining how to render env/game\n",
    "        pass\n",
    "    \n",
    "\n",
    "    def reset(self, seed=0): ## starting new game\n",
    "        self.game.new_episode()\n",
    "        state = self.game.get_state().screen_buffer\n",
    "        ammo  = self.game.get_state().game_variables[0]\n",
    "        info = {'ammo': ammo}\n",
    "            \n",
    "        return self.grayscale(state), info\n",
    "            \n",
    "    \n",
    "    def grayscale(self, observation): ## grayscale the game frame and resize it \n",
    "        gray = cv2.cvtColor(np.moveaxis(observation, 0, -1), cv2.COLOR_BGR2GRAY)\n",
    "        resize = cv2.resize(gray, (160,100), interpolation=cv2.INTER_CUBIC)\n",
    "        state = np.reshape(resize, (100,160,1))\n",
    "        return state\n",
    "\n",
    "    \n",
    "    def close(self):\n",
    "        self.game.close()\n",
    "        pass"
   ]
  },
  {
   "cell_type": "code",
   "execution_count": null,
   "id": "65672f51",
   "metadata": {},
   "outputs": [],
   "source": [
    "env = vizDoomGym(True)"
   ]
  },
  {
   "cell_type": "code",
   "execution_count": null,
   "id": "a1782ea2",
   "metadata": {
    "scrolled": true
   },
   "outputs": [],
   "source": [
    "env.step(0)"
   ]
  },
  {
   "cell_type": "code",
   "execution_count": null,
   "id": "d08ad89f",
   "metadata": {},
   "outputs": [],
   "source": [
    "state = env.reset()"
   ]
  },
  {
   "cell_type": "code",
   "execution_count": null,
   "id": "488a6de9",
   "metadata": {},
   "outputs": [],
   "source": [
    "info"
   ]
  },
  {
   "cell_type": "code",
   "execution_count": null,
   "id": "6c2efed6",
   "metadata": {
    "scrolled": true
   },
   "outputs": [],
   "source": [
    "state[0].shape"
   ]
  },
  {
   "cell_type": "code",
   "execution_count": null,
   "id": "b4455f43",
   "metadata": {
    "scrolled": true
   },
   "outputs": [],
   "source": [
    "env.close()"
   ]
  },
  {
   "cell_type": "code",
   "execution_count": null,
   "id": "2a4673cb",
   "metadata": {},
   "outputs": [],
   "source": [
    "np.moveaxis(state,0,-1).shape"
   ]
  },
  {
   "cell_type": "code",
   "execution_count": null,
   "id": "18309ff9",
   "metadata": {
    "scrolled": true
   },
   "outputs": [],
   "source": [
    "env.step(2)"
   ]
  },
  {
   "cell_type": "code",
   "execution_count": null,
   "id": "89a0600b",
   "metadata": {},
   "outputs": [],
   "source": [
    "state[0].shape"
   ]
  },
  {
   "cell_type": "code",
   "execution_count": null,
   "id": "fb6d0252",
   "metadata": {
    "scrolled": false
   },
   "outputs": [],
   "source": [
    "plt.imshow(cv2.cvtColor(state[0], cv2.COLOR_BGR2RGB))"
   ]
  },
  {
   "cell_type": "code",
   "execution_count": null,
   "id": "77e34f11",
   "metadata": {},
   "outputs": [],
   "source": [
    "env.close()"
   ]
  },
  {
   "cell_type": "code",
   "execution_count": null,
   "id": "72a0466d",
   "metadata": {},
   "outputs": [],
   "source": []
  },
  {
   "cell_type": "code",
   "execution_count": null,
   "id": "36f7be6d",
   "metadata": {},
   "outputs": [],
   "source": [
    "from stable_baselines3.common import env_checker"
   ]
  },
  {
   "cell_type": "code",
   "execution_count": null,
   "id": "01904076",
   "metadata": {
    "scrolled": true
   },
   "outputs": [],
   "source": [
    "env_checker.check_env(env)"
   ]
  },
  {
   "cell_type": "code",
   "execution_count": null,
   "id": "6b324aad",
   "metadata": {},
   "outputs": [],
   "source": []
  },
  {
   "cell_type": "code",
   "execution_count": null,
   "id": "b28d0b18",
   "metadata": {},
   "outputs": [],
   "source": []
  },
  {
   "cell_type": "code",
   "execution_count": null,
   "id": "699ed672",
   "metadata": {},
   "outputs": [],
   "source": []
  },
  {
   "cell_type": "code",
   "execution_count": null,
   "id": "acae03ab",
   "metadata": {},
   "outputs": [],
   "source": []
  },
  {
   "cell_type": "code",
   "execution_count": null,
   "id": "c9b33ba9",
   "metadata": {
    "scrolled": true
   },
   "outputs": [],
   "source": [
    "plt.imshow(cv2.cvtColor(state, cv2.COLOR_BGR2RGB))"
   ]
  },
  {
   "cell_type": "code",
   "execution_count": null,
   "id": "50627e38",
   "metadata": {},
   "outputs": [],
   "source": [
    "##Callback to save model\n",
    "import os\n",
    "# Import callback class from stable baselines3 for saving and callback of rl model\n",
    "from stable_baselines3. common.callbacks import BaseCallback"
   ]
  },
  {
   "cell_type": "code",
   "execution_count": null,
   "id": "e2403005",
   "metadata": {},
   "outputs": [],
   "source": [
    "class TrainAndLoggingCallback(BaseCallback):\n",
    "    \n",
    "    def __init__(self, check_freq, save_path, verbose=1):\n",
    "        super(TrainAndLoggingCallback, self).__init__(verbose)\n",
    "        self.check_freq = check_freq\n",
    "        self.save_path = save_path\n",
    "        \n",
    "    def __init__callback(self):\n",
    "        if self.save_path is not None:\n",
    "            os.makedirs(self.save_path, exist_ok=True)\n",
    "            \n",
    "    \n",
    "    def _on_step(self):\n",
    "        if self.n_calls % self.check_freq == 0:\n",
    "            model_path = os.path.join(self.save_path, 'best_model_{}'.format(self.n_calls))\n",
    "            self.model.save(model_path)\n",
    "    \n",
    "        return True\n",
    "    "
   ]
  },
  {
   "cell_type": "code",
   "execution_count": null,
   "id": "00ffd056",
   "metadata": {},
   "outputs": [],
   "source": []
  },
  {
   "cell_type": "code",
   "execution_count": null,
   "id": "10cac8c1",
   "metadata": {},
   "outputs": [],
   "source": [
    "CHECKPOINT_DIR = './train/train_basic'\n",
    "LOG_DIR = './logs/log_basic'"
   ]
  },
  {
   "cell_type": "code",
   "execution_count": null,
   "id": "74fe5542",
   "metadata": {},
   "outputs": [],
   "source": [
    "callback = TrainAndLoggingCallback(check_freq=10000, save_path=CHECKPOINT_DIR)"
   ]
  },
  {
   "cell_type": "code",
   "execution_count": null,
   "id": "8c50942d",
   "metadata": {},
   "outputs": [],
   "source": []
  },
  {
   "cell_type": "code",
   "execution_count": null,
   "id": "d42217a7",
   "metadata": {},
   "outputs": [],
   "source": []
  },
  {
   "cell_type": "code",
   "execution_count": null,
   "id": "f82978e9",
   "metadata": {},
   "outputs": [],
   "source": []
  },
  {
   "cell_type": "code",
   "execution_count": 22,
   "id": "ce7f2717",
   "metadata": {},
   "outputs": [],
   "source": [
    "from stable_baselines3 import PPO"
   ]
  },
  {
   "cell_type": "code",
   "execution_count": null,
   "id": "5846a6d1",
   "metadata": {},
   "outputs": [],
   "source": [
    "env = vizDoomGym()"
   ]
  },
  {
   "cell_type": "code",
   "execution_count": null,
   "id": "1741d754",
   "metadata": {},
   "outputs": [],
   "source": []
  },
  {
   "cell_type": "code",
   "execution_count": null,
   "id": "3e725d07",
   "metadata": {},
   "outputs": [],
   "source": [
    "model = PPO('CnnPolicy', env, tensorboard_log=LOG_DIR, verbose=1, learning_rate=0.0001, n_steps=2048)"
   ]
  },
  {
   "cell_type": "code",
   "execution_count": null,
   "id": "a4b35a6b",
   "metadata": {},
   "outputs": [],
   "source": [
    "model.learn(total_timesteps=100000, callback=callback)"
   ]
  },
  {
   "cell_type": "code",
   "execution_count": null,
   "id": "c4c65856",
   "metadata": {},
   "outputs": [],
   "source": [
    "from stable_baselines3.common.evaluation import evaluate_policy"
   ]
  },
  {
   "cell_type": "code",
   "execution_count": 23,
   "id": "10df4854",
   "metadata": {},
   "outputs": [
    {
     "name": "stderr",
     "output_type": "stream",
     "text": [
      "[W NNPACK.cpp:64] Could not initialize NNPACK! Reason: Unsupported hardware.\n"
     ]
    }
   ],
   "source": [
    "model = PPO.load('/Users/raghavsuri/Desktop/RLDOOM/train/train_basic/best_model_100000.zip')"
   ]
  },
  {
   "cell_type": "code",
   "execution_count": 28,
   "id": "439c9bd3",
   "metadata": {},
   "outputs": [],
   "source": [
    "env = vizDoomGym(render = True)"
   ]
  },
  {
   "cell_type": "code",
   "execution_count": null,
   "id": "abe7fcde",
   "metadata": {},
   "outputs": [],
   "source": [
    "mean_reward, _ = evaluate_policy(model, env, n_eval_episodes=1000)"
   ]
  },
  {
   "cell_type": "code",
   "execution_count": null,
   "id": "f4aeb0d8",
   "metadata": {},
   "outputs": [],
   "source": [
    "mean_reward"
   ]
  },
  {
   "cell_type": "code",
   "execution_count": null,
   "id": "79d7acfc",
   "metadata": {
    "scrolled": true
   },
   "outputs": [],
   "source": [
    "obs[0]"
   ]
  },
  {
   "cell_type": "code",
   "execution_count": null,
   "id": "ea7dbe24",
   "metadata": {},
   "outputs": [],
   "source": [
    "model.predict(obs[0])"
   ]
  },
  {
   "cell_type": "code",
   "execution_count": null,
   "id": "b7cd4667",
   "metadata": {},
   "outputs": [],
   "source": [
    "obs = env.reset()\n",
    "model.predict(obs[0])"
   ]
  },
  {
   "cell_type": "code",
   "execution_count": null,
   "id": "16de5dc8",
   "metadata": {},
   "outputs": [],
   "source": [
    "env.step()"
   ]
  },
  {
   "cell_type": "code",
   "execution_count": null,
   "id": "401c5a57",
   "metadata": {},
   "outputs": [],
   "source": [
    "array = obs[0]"
   ]
  },
  {
   "cell_type": "code",
   "execution_count": 29,
   "id": "35e8ec32",
   "metadata": {},
   "outputs": [
    {
     "name": "stdout",
     "output_type": "stream",
     "text": [
      "Total reward for episode 0 is 71.0\n",
      "Total reward for episode 1 is 83.0\n",
      "Total reward for episode 2 is 95.0\n",
      "Total reward for episode 3 is 91.0\n",
      "Total reward for episode 4 is 72.0\n",
      "Total reward for episode 5 is 67.0\n",
      "Total reward for episode 6 is 21.0\n",
      "Total reward for episode 7 is 79.0\n",
      "Total reward for episode 8 is 91.0\n",
      "Total reward for episode 9 is 87.0\n"
     ]
    }
   ],
   "source": [
    "for episode in range(10):\n",
    "    obs = env.reset()\n",
    "    obs = obs[0]\n",
    "    done = False\n",
    "    total_reward = 0\n",
    "    while not done:\n",
    "        action, _ = model.predict(obs)\n",
    "        obs, reward, done,truncated ,info = env.step(action)\n",
    "        time.sleep(0.25)\n",
    "        total_reward += reward\n",
    "    print(\"Total reward for episode {} is {}\".format(episode, total_reward))\n",
    "    time.sleep(2)"
   ]
  },
  {
   "cell_type": "code",
   "execution_count": 30,
   "id": "741e6ade",
   "metadata": {},
   "outputs": [],
   "source": [
    "env.close()"
   ]
  },
  {
   "cell_type": "code",
   "execution_count": null,
   "id": "c8d205cd",
   "metadata": {},
   "outputs": [],
   "source": []
  }
 ],
 "metadata": {
  "kernelspec": {
   "display_name": "Python 3 (ipykernel)",
   "language": "python",
   "name": "python3"
  },
  "language_info": {
   "codemirror_mode": {
    "name": "ipython",
    "version": 3
   },
   "file_extension": ".py",
   "mimetype": "text/x-python",
   "name": "python",
   "nbconvert_exporter": "python",
   "pygments_lexer": "ipython3",
   "version": "3.9.18"
  }
 },
 "nbformat": 4,
 "nbformat_minor": 5
}
